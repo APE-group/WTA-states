{
 "cells": [
  {
   "cell_type": "code",
   "execution_count": null,
   "id": "a62b2bd0-5fca-48ca-b001-e1a897062fa5",
   "metadata": {},
   "outputs": [],
   "source": [
    "#imports\n",
    "import nest\n",
    "import yaml\n",
    "import nest.raster_plot\n",
    "import numpy as np\n",
    "import matplotlib.pyplot as plt\n",
    "from scipy.signal import spectrogram, butter, filtfilt\n",
    "from analysis_functions import *\n",
    "from asserting_functions import *\n",
    "from yaml_io import *\n",
    "from prepare_nest_parameters import *\n",
    "#from spectrum_with_bands import *\n",
    "from nest_reset_create_connect_simulate import *"
   ]
  },
  {
   "cell_type": "code",
   "execution_count": null,
   "id": "e0d0a613-67e7-4599-989d-7a9747da48ea",
   "metadata": {},
   "outputs": [],
   "source": [
    "is_verbose = False\n",
    "debug_mode = True\n",
    "\n",
    "#total sim, resolution and recording times\n",
    "times = read_sim_and_recording_times_yaml(is_verbose)\n",
    "\n",
    "#read general network parameters\n",
    "config = read_general_config_yaml(is_verbose)\n",
    "\n",
    "#prepare all simulation parameters\n",
    "nest_pms={}\n",
    "nest_pms = nest_parameters_preparation(times, config, is_verbose, nest_pms)\n",
    "print(\"nest_pms\",nest_pms)"
   ]
  },
  {
   "cell_type": "code",
   "execution_count": null,
   "id": "906d55dc-f1c7-41d1-baed-95fa26410fc1",
   "metadata": {},
   "outputs": [],
   "source": [
    "NEST_version = nest.__version__\n",
    "if NEST_version == \"3.7.0\" and nest_pms[\"use_single_compartment_environment\"]==False:\n",
    "    print(\"ASSERTION ERROR: Ca-AdEx multi-compartment neuron not supported by this NEST version\", NEST_version)\n",
    "    assert(False)"
   ]
  },
  {
   "cell_type": "code",
   "execution_count": null,
   "id": "77bdd9d1-260a-42e5-b525-982472a74bd8",
   "metadata": {},
   "outputs": [],
   "source": [
    "num_threads=4\n",
    "sim_completed, spike_recorders, inh_spike_recorder = nest_reset_create_connect_simulate(nest_pms,num_threads)\n",
    "print(\"sim_completed\", sim_completed)"
   ]
  },
  {
   "cell_type": "code",
   "execution_count": null,
   "id": "44b3ead4-a5bc-48b1-98c5-e25b3f842ca6",
   "metadata": {},
   "outputs": [],
   "source": [
    "d_inh = nest.GetStatus(inh_spike_recorder, \"events\")[0]"
   ]
  },
  {
   "cell_type": "code",
   "execution_count": null,
   "id": "9e4aa075-717a-4668-a15e-e93adf80f630",
   "metadata": {},
   "outputs": [],
   "source": [
    "#before analysis, preliminary sim look \n",
    "preliminary_sim_look(debug_mode,nest_pms, spike_recorders, inh_spike_recorder, nest_pms[\"recording_pms\"])   "
   ]
  },
  {
   "cell_type": "code",
   "execution_count": null,
   "id": "8f48a01f-e972-4b3f-895b-6723bdf58b65",
   "metadata": {},
   "outputs": [],
   "source": [
    "verbose=True\n",
    "#read general network parameters\n",
    "crop_pms, plot_pms, sampling_pms = read_crop_and_plot_yaml(is_verbose)\n",
    "\n",
    "#creating the final set of cropping values by combining with simulation info\n",
    "crop_pms = set_final_crop_pms(crop_pms, nest_pms, verbose)\n",
    "\n",
    "default_spectral_analysis_window=plot_pms['spectrogram_window']['default_window']\n",
    "#switch-case decision of spectral_window_ms based on the value of the crop_duration_ms\n",
    "if default_spectral_analysis_window:\n",
    "    spectrogram_window_ms=spectral_window_ms_analysis_switch(crop_pms['duration_ms'])\n",
    "else:\n",
    "    spectrogram_window_ms=plot_pms['spectrogram_window']['custom_ms']\n",
    "\n",
    "#add spectrogram window to sampling_pms\n",
    "sampling_pms['spectrogram_window_ms']=spectrogram_window_ms\n",
    "\n",
    "analysis_pms={}                                 \n",
    "analysis_pms.update(derive_analysis_pms_from_sampling_pms(sampling_pms))\n",
    "  \n",
    "#assertions on crop, recording and spectrogram params\n",
    "check_analysis_pms(crop_pms,nest_pms[\"recording_pms\"],analysis_pms)\n",
    "\n",
    "# Assuming spike_recorders is a list of spike recorder IDs previously created in your NEST simulation\n",
    "cropped_events = crop_events_from_spike_recorders(crop_pms, spike_recorders)\n",
    "\"\"\"\n",
    "print(\"type of cropped_events\",type(cropped_events), len(cropped_events))\n",
    "print(cropped_events)\n",
    "\"\"\"\n",
    "cropped_inh_events = crop_inh_events(crop_pms, inh_spike_recorder)\n",
    "\"\"\"\n",
    "print(\"type of cropped_inh_events\",type(cropped_inh_events), len(cropped_inh_events))\n",
    "print(cropped_inh_events)\n",
    "\"\"\"\n",
    "#print the set of analysis parameters\n",
    "analysis_pms_print(nest_pms[\"recording_pms\"],crop_pms,analysis_pms)"
   ]
  },
  {
   "cell_type": "code",
   "execution_count": null,
   "id": "b57035cf-b011-4dd0-86fd-3a99fa1435cc",
   "metadata": {},
   "outputs": [],
   "source": [
    "#plot of the rastegram of excitatory neurons\n",
    "num_exc_pop=nest_pms['network']['num_exc_pop']\n",
    "if plot_pms['excitatory_rastergram']==True:\n",
    "    exc_pops_rastegram_plot(cropped_events, num_exc_pop, crop_pms)"
   ]
  },
  {
   "cell_type": "code",
   "execution_count": null,
   "id": "bcd4230b-42ec-432b-985f-7ae7e14f29c9",
   "metadata": {},
   "outputs": [],
   "source": [
    "#plot of the rastegram of inhibitory neurons\n",
    "if plot_pms['inhibitory_rastergram']==True:\n",
    "    inh_rastergram_plot(cropped_inh_events, crop_pms)"
   ]
  },
  {
   "cell_type": "code",
   "execution_count": null,
   "id": "fe75ec17-5edc-4390-8c5a-1ef0b7c97f75",
   "metadata": {},
   "outputs": [],
   "source": [
    "#preparing to smooth the single spike with the form of a spike event\n",
    "sampling_rate_Hz = analysis_pms[\"analysis_sampling_freq_Hz\"] #Hz sampling rate\n",
    "print(\"sampling_rate_Hz\", sampling_rate_Hz)\n",
    "duration_ms = 4.0 # Duration of smoothing effect ms\n",
    "print(\"duration_ms\", duration_ms)\n",
    "std_dev_ms = 0.5  # Standard deviation in ms\n",
    "print(\"std_dev_ms\", std_dev_ms)\n",
    "\n",
    "single_spike_kernel = gaussian_kernel(duration_ms, sampling_rate_Hz, std_dev_ms)\n",
    "print(\"len of kernel\",len(single_spike_kernel))\n",
    "\n",
    "if plot_pms['short_spike_kernel']==True:\n",
    "    kernel_plot(single_spike_kernel, sampling_rate_Hz)"
   ]
  },
  {
   "cell_type": "code",
   "execution_count": null,
   "id": "a61bd9e7-58e4-4722-ab78-5748df33c3e4",
   "metadata": {},
   "outputs": [],
   "source": [
    "#collect spike spikes from all populations in a single vector \n",
    "single_trace_spike_times = combine_spike_times_in_single_trace(cropped_events, num_exc_pop)"
   ]
  },
  {
   "cell_type": "code",
   "execution_count": null,
   "id": "838230b9-b142-4c3f-a683-80b630ce2599",
   "metadata": {},
   "outputs": [],
   "source": [
    "#Calculate combined firing rates\n",
    "num_exc_pop=nest_pms['network']['num_exc_pop']\n",
    "num_exc_neu_per_pop=nest_pms['network']['num_exc_neu_per_pop']\n",
    "time_points, combined_firing_rate = \\\n",
    "    calculate_firing_rate(crop_pms, analysis_pms, single_trace_spike_times, num_exc_pop*num_exc_neu_per_pop)"
   ]
  },
  {
   "cell_type": "code",
   "execution_count": null,
   "id": "f2ceed1b-bbf8-436d-b53b-f5142d77c024",
   "metadata": {},
   "outputs": [],
   "source": [
    "if plot_pms['instantaneous_firing_rate']==True:\n",
    "    #plot of combined instantaneous firing rates   \n",
    "    firing_rates_plot(time_points, combined_firing_rate, crop_pms) "
   ]
  },
  {
   "cell_type": "code",
   "execution_count": null,
   "id": "efa798dd-5288-4217-92b5-18e0f711305d",
   "metadata": {},
   "outputs": [],
   "source": [
    "smoothed_spikes_firing_rate = smooth_signal(combined_firing_rate, single_spike_kernel)\n",
    "print(\"len of smoothed signal\", len(smoothed_spikes_firing_rate))\n",
    "print(\"type of smoothed signal\", type(smoothed_spikes_firing_rate))\n",
    "if plot_pms['smoothed_spikes_firing_rate']==True:\n",
    "    firing_rates_plot(time_points, smoothed_spikes_firing_rate, crop_pms) "
   ]
  },
  {
   "cell_type": "code",
   "execution_count": null,
   "id": "bab89efa-69e8-45cf-b3dd-f3a52e8fc111",
   "metadata": {},
   "outputs": [],
   "source": [
    "#dividing the data in segments for reliable spectral analysis\n",
    "max_plot_freq_Hz=plot_pms['high_freq_spectrum']['max_plot_freq_Hz']\n",
    "smoothing_length=plot_pms['high_freq_spectrum']['smoothing_lenght'] #frequency samples\n",
    "if plot_pms['high_freq_spectrum']['plot']==True:\n",
    "    compute_spectrum_with_error_bands(smoothed_spikes_firing_rate, analysis_pms, max_plot_freq_Hz, smoothing_length)"
   ]
  },
  {
   "cell_type": "code",
   "execution_count": null,
   "id": "c93b7384-c1d5-4eb8-8108-a0dfcfa8a3af",
   "metadata": {},
   "outputs": [],
   "source": [
    "max_plot_freq_Hz=plot_pms['high_freq_spectrogram']['max_plot_freq_Hz']\n",
    "#Spectrogram plot\n",
    "if plot_pms['high_freq_spectrogram']['plot']==True:\n",
    "    plot_spectrogram(time_points[0],\\\n",
    "                 smoothed_spikes_firing_rate,\\\n",
    "                 analysis_pms, max_plot_freq_Hz)"
   ]
  },
  {
   "cell_type": "code",
   "execution_count": null,
   "id": "91e36475-91e8-4c6b-95fc-09ff6af15f5b",
   "metadata": {},
   "outputs": [],
   "source": [
    "#smoothing the spike gaussians with synaptic times for ECG/LFP/ECoG like analysis\n",
    "sampling_rate_Hz = analysis_pms[\"analysis_sampling_freq_Hz\"] #Hz sampling rate\n",
    "print(\"sampling_rate_Hz\", sampling_rate_Hz)\n",
    "#duration_ms = 100.0 # Duration of smoothing effect ms\n",
    "duration_ms = plot_pms['tissue_response_kernel']['duration_ms']\n",
    "assert(crop_pms[\"duration_ms\"]>=duration_ms)\n",
    "print(\"duration_ms\", duration_ms)\n",
    "#std_dev_ms = 12.0  # Standard deviation in ms\n",
    "std_dev_ms = plot_pms['tissue_response_kernel']['std_dev_ms']\n",
    "print(\"std_dev_ms\", std_dev_ms)\n",
    "tissue_response_kernel = gaussian_kernel(duration_ms, sampling_rate_Hz, std_dev_ms)\n",
    "print(\"len of kernel\",len(tissue_response_kernel))\n",
    "if plot_pms['tissue_response_kernel']['plot']==True:\n",
    "    kernel_plot(tissue_response_kernel, sampling_rate_Hz)"
   ]
  },
  {
   "cell_type": "code",
   "execution_count": null,
   "id": "b7d532e7-c3b5-42ae-af21-b1bfe58522f0",
   "metadata": {},
   "outputs": [],
   "source": [
    "#smoothed_spikes_firing_rate = smooth_signal(combined_firing_rate, single_spike_kernel)\n",
    "tissue_response_rate = smooth_signal(smoothed_spikes_firing_rate, tissue_response_kernel)"
   ]
  },
  {
   "cell_type": "code",
   "execution_count": null,
   "id": "2ec6fbde-5e27-476d-86b7-e2af4dbbf3e4",
   "metadata": {},
   "outputs": [],
   "source": [
    "print(\"len of tissue signal\", len(tissue_response_rate))\n",
    "print(\"type of tissue signal\", type(tissue_response_rate))\n",
    "if plot_pms['tissue_response_rate']==True:\n",
    "    firing_rates_plot(time_points, tissue_response_rate, crop_pms) "
   ]
  },
  {
   "cell_type": "code",
   "execution_count": null,
   "id": "9b512491-88e7-466a-b691-a8404753cc93",
   "metadata": {},
   "outputs": [],
   "source": [
    "#dividing the data in segments for reliable spectral analysis\n",
    "max_plot_freq_Hz=plot_pms['tissue_response_spectrum']['max_plot_freq_Hz']\n",
    "smoothing_length=plot_pms['tissue_response_spectrum']['smoothing_lenght'] #frequency samples\n",
    "if plot_pms['tissue_response_spectrum']['plot']==True:\n",
    "    compute_spectrum_with_error_bands(tissue_response_rate, analysis_pms, max_plot_freq_Hz, smoothing_length)"
   ]
  },
  {
   "cell_type": "code",
   "execution_count": null,
   "id": "66ec6a4a-a959-4c37-acf8-fc659c03549e",
   "metadata": {},
   "outputs": [],
   "source": [
    "max_plot_freq_Hz=plot_pms['tissue_response_spectrogram']['max_plot_freq_Hz']\n",
    "#Spectrogram plot\n",
    "if plot_pms['tissue_response_spectrogram']['plot']==True:\n",
    "    plot_spectrogram(time_points[0],\\\n",
    "                 tissue_response_rate,\\\n",
    "                 analysis_pms, max_plot_freq_Hz)"
   ]
  },
  {
   "cell_type": "code",
   "execution_count": null,
   "id": "efd70cf4-a39b-4bb5-ae8b-dbf82074a306",
   "metadata": {},
   "outputs": [],
   "source": [
    "plt.show()"
   ]
  },
  {
   "cell_type": "code",
   "execution_count": null,
   "id": "a1851d77-9acf-42ff-ac14-eb76b14f5ee3",
   "metadata": {},
   "outputs": [],
   "source": []
  },
  {
   "cell_type": "code",
   "execution_count": null,
   "id": "9b2f2ed1-8fbc-435f-a0ed-cec720711227",
   "metadata": {},
   "outputs": [],
   "source": []
  },
  {
   "cell_type": "code",
   "execution_count": null,
   "id": "9a521881-a256-4b24-9368-494f21f44869",
   "metadata": {},
   "outputs": [],
   "source": []
  }
 ],
 "metadata": {
  "kernelspec": {
   "display_name": "Python 3 (ipykernel)",
   "language": "python",
   "name": "python3"
  },
  "language_info": {
   "codemirror_mode": {
    "name": "ipython",
    "version": 3
   },
   "file_extension": ".py",
   "mimetype": "text/x-python",
   "name": "python",
   "nbconvert_exporter": "python",
   "pygments_lexer": "ipython3",
   "version": "3.12.3"
  }
 },
 "nbformat": 4,
 "nbformat_minor": 5
}

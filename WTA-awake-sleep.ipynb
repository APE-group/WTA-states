{
 "cells": [
  {
   "cell_type": "code",
   "execution_count": null,
   "id": "a62b2bd0-5fca-48ca-b001-e1a897062fa5",
   "metadata": {},
   "outputs": [],
   "source": [
    "#imports\n",
    "import nest\n",
    "import yaml\n",
    "import nest.raster_plot\n",
    "import numpy as np\n",
    "import matplotlib.pyplot as plt\n",
    "from scipy.signal import spectrogram, butter, filtfilt\n",
    "from analysis_functions import *\n",
    "from asserting_functions import *\n",
    "from yaml_io import *\n",
    "from prepare_nest_parameters import *\n",
    "from nest_reset_create_connect_simulate import *\n",
    "from activity_analysis import *\n",
    "from synaptic_io import *"
   ]
  },
  {
   "cell_type": "code",
   "execution_count": null,
   "id": "e0d0a613-67e7-4599-989d-7a9747da48ea",
   "metadata": {},
   "outputs": [],
   "source": [
    "is_verbose = False\n",
    "#copy configuration yamls in specified output directory\n",
    "directories_and_list_of_yamls =\\\n",
    "    read_basic_directories_and_list_of_yamls(is_verbose)\n",
    "copy_yamls_in_output_dir(directories_and_list_of_yamls, is_verbose)\n",
    "\n",
    "is_verbose = True\n",
    "#total sim, resolution and recording times\n",
    "times = read_sim_and_recording_times_yaml(is_verbose)\n",
    "\n",
    "#read general network parameters\n",
    "config = read_general_config_yaml(is_verbose)\n",
    "\n",
    "#prepare all simulation parameters\n",
    "nest_pms={}\n",
    "nest_pms = nest_parameters_preparation(times, config, is_verbose, nest_pms)\n",
    "print(\"nest_pms\",nest_pms)"
   ]
  },
  {
   "cell_type": "code",
   "execution_count": null,
   "id": "906d55dc-f1c7-41d1-baed-95fa26410fc1",
   "metadata": {},
   "outputs": [],
   "source": [
    "NEST_version = nest.__version__\n",
    "if NEST_version == \"3.7.0\" and nest_pms[\"use_single_compartment_environment\"]==False:\n",
    "    print(\"ASSERTION ERROR: Ca-AdEx multi-compartment neuron not supported by this NEST version\", NEST_version)\n",
    "    assert(False)\n",
    "is_verbose=False\n",
    "num_threads=4\n",
    "sim_completed, spike_recorders, inh_spike_recorder, multimeters = nest_reset_create_connect_simulate(nest_pms,num_threads, is_verbose)\n",
    "print(\"sim_completed\", sim_completed)"
   ]
  },
  {
   "cell_type": "code",
   "execution_count": null,
   "id": "44b3ead4-a5bc-48b1-98c5-e25b3f842ca6",
   "metadata": {},
   "outputs": [],
   "source": [
    "d_inh = nest.GetStatus(inh_spike_recorder, \"events\")[0]"
   ]
  },
  {
   "cell_type": "code",
   "execution_count": null,
   "id": "9e4aa075-717a-4668-a15e-e93adf80f630",
   "metadata": {},
   "outputs": [],
   "source": [
    "#before analysis, preliminary sim look \n",
    "is_verbose=True\n",
    "preliminary_sim_look(is_verbose, nest_pms, spike_recorders, inh_spike_recorder, nest_pms[\"recording_pms\"])   "
   ]
  },
  {
   "cell_type": "code",
   "execution_count": null,
   "id": "8f48a01f-e972-4b3f-895b-6723bdf58b65",
   "metadata": {},
   "outputs": [],
   "source": [
    "is_verbose=False\n",
    "#here we prepare all the parameters for the following analysis and print\n",
    "crop_pms, plot_pms, sampling_pms, analysis_pms =\\\n",
    "    prepare_crop_plot_sampling_activityAnalysis_parameters(directories_and_list_of_yamls, nest_pms, is_verbose)\n",
    "\n",
    "# Assuming spike_recorders is a list of spike recorder IDs previously created in your NEST simulation\n",
    "cropped_events = crop_events_from_spike_recorders(crop_pms, spike_recorders)\n",
    "cropped_inh_events = crop_inh_events(crop_pms, inh_spike_recorder)"
   ]
  },
  {
   "cell_type": "code",
   "execution_count": null,
   "id": "534c60f3-cdb1-4816-b671-6dae0f2b8d02",
   "metadata": {},
   "outputs": [],
   "source": [
    "is_verbose=False\n",
    "#launches all analysis\n",
    "#produces from both spike-like waveforms and tissue-like responses\n",
    "#PLEASE use the basic_ and tune_crop_and_plot.yaml to select plots and parameters \n",
    "produce_rastegrams_rates_spectra_spectrograms(directories_and_list_of_yamls,\\\n",
    "    nest_pms, crop_pms, plot_pms, analysis_pms, cropped_events, cropped_inh_events, is_verbose)"
   ]
  },
  {
   "cell_type": "code",
   "execution_count": null,
   "id": "4a22c6f5-0774-4057-b7a4-9040d0e0e4cb",
   "metadata": {},
   "outputs": [],
   "source": [
    "verbose=True\n",
    "list_of_syn_matrix_file_names=['syn_matrix-initial',\n",
    "                               'syn_matrix-after_first_disconnection',\n",
    "                               'syn_matrix-after_plasticity_switch_ON',\n",
    "                               'syn_matrix-end_of_plasticity',\n",
    "                               'syn_matrix-after_second_disconnection']\n",
    "# loading of synaptic matrices\n",
    "for file_name in list_of_syn_matrix_file_names:\n",
    "    array_of_dicts=load_intra_assembly_syn(file_name, verbose) "
   ]
  },
  {
   "cell_type": "code",
   "execution_count": null,
   "id": "abdd55b7-3c8d-4bfa-b0a2-1cf85dcc2fe7",
   "metadata": {},
   "outputs": [],
   "source": []
  }
 ],
 "metadata": {
  "kernelspec": {
   "display_name": "Python 3 (ipykernel)",
   "language": "python",
   "name": "python3"
  },
  "language_info": {
   "codemirror_mode": {
    "name": "ipython",
    "version": 3
   },
   "file_extension": ".py",
   "mimetype": "text/x-python",
   "name": "python",
   "nbconvert_exporter": "python",
   "pygments_lexer": "ipython3",
   "version": "3.12.3"
  }
 },
 "nbformat": 4,
 "nbformat_minor": 5
}

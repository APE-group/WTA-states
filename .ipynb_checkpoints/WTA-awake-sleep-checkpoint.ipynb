{
 "cells": [
  {
   "cell_type": "code",
   "execution_count": 1,
   "id": "a62b2bd0-5fca-48ca-b001-e1a897062fa5",
   "metadata": {},
   "outputs": [
    {
     "name": "stdout",
     "output_type": "stream",
     "text": [
      "\n",
      "              -- N E S T --\n",
      "  Copyright (C) 2004 The NEST Initiative\n",
      "\n",
      " Version: 3.7.0\n",
      " Built: Jun 14 2024 10:44:24\n",
      "\n",
      " This program is provided AS IS and comes with\n",
      " NO WARRANTY. See the file LICENSE for details.\n",
      "\n",
      " Problems or suggestions?\n",
      "   Visit https://www.nest-simulator.org\n",
      "\n",
      " Type 'nest.help()' to find out more about NEST.\n",
      "\n"
     ]
    }
   ],
   "source": [
    "#imports\n",
    "import nest\n",
    "import yaml\n",
    "import nest.raster_plot\n",
    "import numpy as np\n",
    "import matplotlib.pyplot as plt\n",
    "from scipy.signal import spectrogram, butter, filtfilt\n",
    "from analysis_functions import *\n",
    "from asserting_functions import *\n",
    "from yaml_io import *\n",
    "from prepare_nest_parameters import *\n",
    "from nest_reset_create_connect_simulate import *\n",
    "from activity_analysis import *\n",
    "from synaptic_io import *"
   ]
  },
  {
   "cell_type": "code",
   "execution_count": 2,
   "id": "e0d0a613-67e7-4599-989d-7a9747da48ea",
   "metadata": {},
   "outputs": [
    {
     "name": "stdout",
     "output_type": "stream",
     "text": [
      "in read_directories_yaml: verbose mode is False\n"
     ]
    },
    {
     "name": "stdin",
     "output_type": "stream",
     "text": [
      "Directory '/Users/paolucci/github_projects/WTA-states/static_synapses_NREM' already exists. Do you want to continue? (y/n):  y\n"
     ]
    },
    {
     "name": "stdout",
     "output_type": "stream",
     "text": [
      "in read_sim_and_recording_times_yaml: verbose mode is False\n",
      "in read_general_config_yaml: verbose mode is False\n",
      "in nest_parameters_preparation: verbose mode is False\n",
      "in read_neural_parameters: verbose mode is False\n",
      "in read_neural_parameters: verbose mode is False\n",
      "nest_pms {'exc_pms': {'multi_compartment': False, 'neuron_kind': 'excitatory', 'equation_params': {'a': 0, 't_ref': 0.0, 'Delta_T': 2.0, 'C_m': 362.5648533496359, 'g_L': 6.666182946322264, 'tau_w': 500.0, 'V_th': -50.0, 'V_peak': -40.0, 'b_awake': 40.0, 'E_L_awake': -58.656837907086036, 'V_reset_awake': -62.12885359171539, 'b_NREM': 200.0, 'E_L_NREM': -63.656837907086036, 'V_reset_NREM': -62.12885359171539}}, 'inh_pms': {'multi_compartment': False, 'neuron_kind': 'inhibitory', 'equation_params': {'a': 0, 'b': 0, 't_ref': 0.0, 'Delta_T': 2.0, 'C_m': 50.0, 'g_L': 5.0, 'E_L': -63.0, 'V_reset': -65.0, 'tau_w': 500.0, 'V_th': -50.0, 'V_peak': -40.0}}, 'contextual_poisson': {'awake': {'basic_rate': 3000.0, 'poisson_weight': 0.6, 'spreading_factor': 4.0, 'events': [{'start_time_ms': 6000.0, 'stop_time_ms': 7000.0, 'target_population': 0}, {'start_time_ms': 8000.0, 'stop_time_ms': 9000.0, 'target_population': 1}, {'start_time_ms': 10000.0, 'stop_time_ms': 11000.0, 'target_population': 1}, {'start_time_ms': 12000.0, 'stop_time_ms': 13000.0, 'target_population': 0}]}, 'NREM': {'basic_rate': 1500.0, 'poisson_weight': 0.6, 'spreading_factor': 4.0, 'events': [{'start_time_ms': 10000.0, 'stop_time_ms': 12000.0, 'target_population': 1}, {'start_time_ms': 15000.0, 'stop_time_ms': 17000.0, 'target_population': 0}]}}, 'brain_state': 'NREM', 'sim_pms': {'stop_ms': 45000.0, 'resolution_ms': 0.1}, 'use_single_compartment_environment': True, 'exc_neu_params': {'receptors': {}, 'equation_params': {'a': 0, 't_ref': 0.0, 'Delta_T': 2.0, 'C_m': 362.5648533496359, 'g_L': 6.666182946322264, 'tau_w': 500.0, 'V_th': -50.0, 'V_peak': -40.0, 'b': 200.0, 'E_L': -63.656837907086036, 'V_reset': -62.12885359171539}}, 'inh_neu_params': {'a': 0, 'b': 0, 't_ref': 0.0, 'Delta_T': 2.0, 'C_m': 50.0, 'g_L': 5.0, 'E_L': -63.0, 'V_reset': -65.0, 'tau_w': 500.0, 'V_th': -50.0, 'V_peak': -40.0}, 'exc_t_ref_ms': 0.0, 'recording_pms': {'start_ms': 5000.0, 'stop_ms': 45000.0, 'duration_ms': 40000.0}, 'events_pms': [{'action': {'kind': 'store_intra_assembly_syn', 'file_name': 'first_syn_matrix'}, 'sim_period_ms': 1000.0}, {'action': {'kind': 'store_intra_assembly_syn', 'file_name': 'second_syn_matrix'}, 'sim_period_ms': 2000.0}], 'network': {'num_exc_neu_per_pop': 20, 'num_exc_pop': 4, 'num_inh_neu': 20, 'use_exc_recurrency': True, 'weights': {'exc_to_exc': 19.0, 'inh_to_exc_weight': -1.7, 'exc_to_inh_weight': 7.0, 'inh_to_inh_weight': -1.0}, 'min_syn_delay_ms': 0.0, 'use_poisson_generators': True, 'num_poisson_generators': 20}, 'poisson': {'poisson_noise_spreading_factor': 4.0, 'poisson_rate': 62.5, 'poisson_weight': 2.4, 'poisson_delta': 0.0}, 'use_dc_exc_injectors': False, 'use_dc_inh_injector': True, 'dc_inh': {'start_ms': 0.0, 'stop_ms': 45000.0, 'dc_inh_amplitude': 0.0, 'weight': 1.0, 'delay_ms': 1.0}}\n"
     ]
    }
   ],
   "source": [
    "is_verbose = False\n",
    "#copy configuration yamls in specified output directory\n",
    "directories_and_list_of_yamls = read_directories_yaml(is_verbose)\n",
    "copy_yamls_in_output_dir(directories_and_list_of_yamls, is_verbose)\n",
    "\n",
    "is_verbose = False\n",
    "#total sim, resolution and recording times\n",
    "times = read_sim_and_recording_times_yaml(is_verbose)\n",
    "\n",
    "#read general network parameters\n",
    "config = read_general_config_yaml(is_verbose)\n",
    "\n",
    "#prepare all simulation parameters\n",
    "nest_pms={}\n",
    "nest_pms = nest_parameters_preparation(times, config, is_verbose, nest_pms)\n",
    "print(\"nest_pms\",nest_pms)"
   ]
  },
  {
   "cell_type": "code",
   "execution_count": 3,
   "id": "906d55dc-f1c7-41d1-baed-95fa26410fc1",
   "metadata": {},
   "outputs": [
    {
     "name": "stdout",
     "output_type": "stream",
     "text": [
      "IN nest_reset_create_connect_simulate: use_single_compartment_environment = True\n",
      "\n",
      "Aug 20 16:58:45 SimulationManager::set_status [Info]: \n",
      "in nest_..._simulate: just before nest.Simulate\n",
      "nest_pms['events_pms'] [{'action': {'kind': 'store_intra_assembly_syn', 'file_name': 'first_syn_matrix'}, 'sim_period_ms': 1000.0}, {'action': {'kind': 'store_intra_assembly_syn', 'file_name': 'second_syn_matrix'}, 'sim_period_ms': 2000.0}]\n",
      "ACTION {'kind': 'store_intra_assembly_syn', 'file_name': 'first_syn_matrix'}\n",
      "in perform_event_action: requested action: {'kind': 'store_intra_assembly_syn', 'file_name': 'first_syn_matrix'}\n",
      "in store_intra_assembly_synapses:\n",
      "will save to file: first_syn_matrix\n",
      "    Temporal resolution changed from 0.1 to 0.1 ms.\n",
      "expected NEXT SIM PERIOD ms 1000.0\n",
      "launching next period of  1000.0 ms of simulation\n",
      "\n",
      "Aug 20 16:58:45 NodeManager::prepare_nodes [Info]: \n",
      "performed until now:    Preparing 212 nodes for simulation.\n",
      "\n",
      "Aug 20 16:58:45 SimulationManager::start_updating_ [Info]: \n",
      "    Number of local nodes: 212\n",
      "    Simulation time (ms): 1000\n",
      "    Number of OpenMP threads: 4\n",
      "    Not using MPI\n",
      "\n",
      "Aug 20 16:58:45 SimulationManager::run [Info]: \n",
      "    Simulation finished.\n",
      " 1000.0 TOTAL ms of simulation\n",
      "ACTION {'kind': 'store_intra_assembly_syn', 'file_name': 'second_syn_matrix'}\n",
      "in perform_event_action: requested action: {'kind': 'store_intra_assembly_syn', 'file_name': 'second_syn_matrix'}\n",
      "in store_intra_assembly_synapses:\n",
      "will save to file: second_syn_matrix\n",
      "expected NEXT SIM PERIOD ms 2000.0\n",
      "launching next period of  2000.0 ms of simulation\n",
      "\n",
      "Aug 20 16:58:45 NodeManager::prepare_nodes [Info]: \n",
      "performed until now: 3000.0 TOTAL ms of simulation\n",
      "ADDING  42000.0 ms sim to complete expected 45000.0 TOTAL ms of simulation\n",
      "    Preparing 212 nodes for simulation.\n",
      "\n",
      "Aug 20 16:58:45 SimulationManager::start_updating_ [Info]: \n",
      "    Number of local nodes: 212\n",
      "    Simulation time (ms): 2000\n",
      "    Number of OpenMP threads: 4\n",
      "    Not using MPI\n",
      "\n",
      "Aug 20 16:58:46 SimulationManager::run [Info]: \n",
      "    Simulation finished.\n",
      "performed until now: 45000.0 TOTAL ms of simulation\n",
      "sim_completed True\n",
      "\n",
      "Aug 20 16:58:46 NodeManager::prepare_nodes [Info]: \n",
      "    Preparing 212 nodes for simulation.\n",
      "\n",
      "Aug 20 16:58:46 SimulationManager::start_updating_ [Info]: \n",
      "    Number of local nodes: 212\n",
      "    Simulation time (ms): 42000\n",
      "    Number of OpenMP threads: 4\n",
      "    Not using MPI\n",
      "\n",
      "Aug 20 16:58:59 SimulationManager::run [Info]: \n",
      "    Simulation finished.\n"
     ]
    }
   ],
   "source": [
    "NEST_version = nest.__version__\n",
    "if NEST_version == \"3.7.0\" and nest_pms[\"use_single_compartment_environment\"]==False:\n",
    "    print(\"ASSERTION ERROR: Ca-AdEx multi-compartment neuron not supported by this NEST version\", NEST_version)\n",
    "    assert(False)\n",
    "is_verbose=False\n",
    "num_threads=4\n",
    "sim_completed, spike_recorders, inh_spike_recorder = nest_reset_create_connect_simulate(nest_pms,num_threads, is_verbose)\n",
    "print(\"sim_completed\", sim_completed)"
   ]
  },
  {
   "cell_type": "code",
   "execution_count": 4,
   "id": "44b3ead4-a5bc-48b1-98c5-e25b3f842ca6",
   "metadata": {},
   "outputs": [],
   "source": [
    "d_inh = nest.GetStatus(inh_spike_recorder, \"events\")[0]"
   ]
  },
  {
   "cell_type": "code",
   "execution_count": 5,
   "id": "9e4aa075-717a-4668-a15e-e93adf80f630",
   "metadata": {},
   "outputs": [
    {
     "name": "stdout",
     "output_type": "stream",
     "text": [
      "pop 0 first recorded event at time 6344.6 from sender 8\n",
      "pop 0 last recorded event at time 44819.6 from sender 3\n",
      "pop 0 total_exc_pop_spikes= 501\n",
      "pop 0 average_exc_pop_firing_rate_Hz= 0.6262500000000001 Hz\n",
      "pop 1 first recorded event at time 5655.400000000001 from sender 32\n",
      "pop 1 last recorded event at time 43601.0 from sender 39\n",
      "pop 1 total_exc_pop_spikes= 500\n",
      "pop 1 average_exc_pop_firing_rate_Hz= 0.625 Hz\n",
      "pop 2 first recorded event at time 6026.400000000001 from sender 48\n",
      "pop 2 last recorded event at time 44451.4 from sender 51\n",
      "pop 2 total_exc_pop_spikes= 460\n",
      "pop 2 average_exc_pop_firing_rate_Hz= 0.5750000000000001 Hz\n",
      "pop 3 first recorded event at time 5194.900000000001 from sender 72\n",
      "pop 3 last recorded event at time 44048.200000000004 from sender 75\n",
      "pop 3 total_exc_pop_spikes= 460\n",
      "pop 3 average_exc_pop_firing_rate_Hz= 0.5750000000000001 Hz\n",
      "INHIBITORIES 3 first recorded event at time 5219.6 from sender 84\n",
      "INHIBITORIES 3 last recorded event at time 44820.4 from sender 99\n",
      "INHIBITORIES 3 total_inh_pop_spikes= 3880\n",
      "INHIBITORIES 3 average_inh_firing_rate_Hz= 4.8500000000000005 Hz\n"
     ]
    }
   ],
   "source": [
    "#before analysis, preliminary sim look \n",
    "is_verbose=True\n",
    "preliminary_sim_look(is_verbose, nest_pms, spike_recorders, inh_spike_recorder, nest_pms[\"recording_pms\"])   "
   ]
  },
  {
   "cell_type": "code",
   "execution_count": 6,
   "id": "8f48a01f-e972-4b3f-895b-6723bdf58b65",
   "metadata": {},
   "outputs": [
    {
     "ename": "TypeError",
     "evalue": "prepare_crop_plot_sampling_activityAnalysis_parameters() missing 1 required positional argument: 'verbose'",
     "output_type": "error",
     "traceback": [
      "\u001b[0;31m---------------------------------------------------------------------------\u001b[0m",
      "\u001b[0;31mTypeError\u001b[0m                                 Traceback (most recent call last)",
      "Cell \u001b[0;32mIn[6], line 4\u001b[0m\n\u001b[1;32m      1\u001b[0m is_verbose\u001b[38;5;241m=\u001b[39m\u001b[38;5;28;01mFalse\u001b[39;00m\n\u001b[1;32m      2\u001b[0m \u001b[38;5;66;03m#here we prepare all the parameters for the following analysis and print\u001b[39;00m\n\u001b[1;32m      3\u001b[0m crop_pms, plot_pms, sampling_pms, analysis_pms \u001b[38;5;241m=\u001b[39m\\\n\u001b[0;32m----> 4\u001b[0m     prepare_crop_plot_sampling_activityAnalysis_parameters(nest_pms, is_verbose)\n\u001b[1;32m      6\u001b[0m \u001b[38;5;66;03m# Assuming spike_recorders is a list of spike recorder IDs previously created in your NEST simulation\u001b[39;00m\n\u001b[1;32m      7\u001b[0m cropped_events \u001b[38;5;241m=\u001b[39m crop_events_from_spike_recorders(crop_pms, spike_recorders)\n",
      "\u001b[0;31mTypeError\u001b[0m: prepare_crop_plot_sampling_activityAnalysis_parameters() missing 1 required positional argument: 'verbose'"
     ]
    }
   ],
   "source": [
    "is_verbose=False\n",
    "#here we prepare all the parameters for the following analysis and print\n",
    "crop_pms, plot_pms, sampling_pms, analysis_pms =\\\n",
    "    prepare_crop_plot_sampling_activityAnalysis_parameters(directories_and_list_of_yamls, nest_pms, is_verbose)\n",
    "\n",
    "# Assuming spike_recorders is a list of spike recorder IDs previously created in your NEST simulation\n",
    "cropped_events = crop_events_from_spike_recorders(crop_pms, spike_recorders)\n",
    "cropped_inh_events = crop_inh_events(crop_pms, inh_spike_recorder)"
   ]
  },
  {
   "cell_type": "code",
   "execution_count": null,
   "id": "534c60f3-cdb1-4816-b671-6dae0f2b8d02",
   "metadata": {},
   "outputs": [],
   "source": [
    "is_verbose=False\n",
    "#launches all analysis\n",
    "#produces from both spike-like waveforms and tissue-like responses\n",
    "#PLEASE use the basic_ and tune_crop_and_plot.yaml to select plots and parameters \n",
    "produce_rastegrams_rates_spectra_spectrograms(directories_and_list_of_yamls,\\\n",
    "    nest_pms, crop_pms, plot_pms, analysis_pms, cropped_events, cropped_inh_events, is_verbose)"
   ]
  },
  {
   "cell_type": "code",
   "execution_count": null,
   "id": "4a22c6f5-0774-4057-b7a4-9040d0e0e4cb",
   "metadata": {},
   "outputs": [],
   "source": [
    "verbose=True\n",
    "# loading a synaptic matrix\n",
    "array_of_dicts=load_intra_assembly_syn('first_syn_matrix', verbose) "
   ]
  },
  {
   "cell_type": "code",
   "execution_count": null,
   "id": "12ffa520-030e-46f0-8213-b033bc9007a7",
   "metadata": {},
   "outputs": [],
   "source": [
    "print(array_of_dicts[0]['intra_pop_connections'])"
   ]
  },
  {
   "cell_type": "code",
   "execution_count": null,
   "id": "a362978a-e2bb-45c3-b334-e1adbb38c091",
   "metadata": {},
   "outputs": [],
   "source": []
  },
  {
   "cell_type": "code",
   "execution_count": null,
   "id": "b2147646-2a46-43bb-8ab9-1693b10de9c1",
   "metadata": {},
   "outputs": [],
   "source": []
  }
 ],
 "metadata": {
  "kernelspec": {
   "display_name": "Python 3 (ipykernel)",
   "language": "python",
   "name": "python3"
  },
  "language_info": {
   "codemirror_mode": {
    "name": "ipython",
    "version": 3
   },
   "file_extension": ".py",
   "mimetype": "text/x-python",
   "name": "python",
   "nbconvert_exporter": "python",
   "pygments_lexer": "ipython3",
   "version": "3.12.3"
  }
 },
 "nbformat": 4,
 "nbformat_minor": 5
}
